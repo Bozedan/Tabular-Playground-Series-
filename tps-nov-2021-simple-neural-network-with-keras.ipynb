{
 "cells": [
  {
   "cell_type": "code",
   "execution_count": 1,
   "id": "f86a40aa",
   "metadata": {
    "_cell_guid": "b1076dfc-b9ad-4769-8c92-a6c4dae69d19",
    "_uuid": "8f2839f25d086af736a60e9eeb907d3b93b6e0e5",
    "execution": {
     "iopub.execute_input": "2021-11-29T08:09:56.063190Z",
     "iopub.status.busy": "2021-11-29T08:09:56.061676Z",
     "iopub.status.idle": "2021-11-29T08:09:56.078313Z",
     "shell.execute_reply": "2021-11-29T08:09:56.077566Z",
     "shell.execute_reply.started": "2021-11-29T07:59:29.972056Z"
    },
    "papermill": {
     "duration": 0.045618,
     "end_time": "2021-11-29T08:09:56.078510",
     "exception": false,
     "start_time": "2021-11-29T08:09:56.032892",
     "status": "completed"
    },
    "tags": []
   },
   "outputs": [
    {
     "name": "stdout",
     "output_type": "stream",
     "text": [
      "/kaggle/input/tabular-playground-series-nov-2021/sample_submission.csv\n",
      "/kaggle/input/tabular-playground-series-nov-2021/train.csv\n",
      "/kaggle/input/tabular-playground-series-nov-2021/test.csv\n"
     ]
    }
   ],
   "source": [
    "# This Python 3 environment comes with many helpful analytics libraries installed\n",
    "# It is defined by the kaggle/python Docker image: https://github.com/kaggle/docker-python\n",
    "# For example, here's several helpful packages to load\n",
    "\n",
    "import numpy as np # linear algebra\n",
    "import pandas as pd # data processing, CSV file I/O (e.g. pd.read_csv)\n",
    "\n",
    "# Input data files are available in the read-only \"../input/\" directory\n",
    "# For example, running this (by clicking run or pressing Shift+Enter) will list all files under the input directory\n",
    "\n",
    "import os\n",
    "for dirname, _, filenames in os.walk('/kaggle/input'):\n",
    "    for filename in filenames:\n",
    "        print(os.path.join(dirname, filename))\n",
    "\n",
    "# You can write up to 20GB to the current directory (/kaggle/working/) that gets preserved as output when you create a version using \"Save & Run All\" \n",
    "# You can also write temporary files to /kaggle/temp/, but they won't be saved outside of the current session"
   ]
  },
  {
   "cell_type": "markdown",
   "id": "955f9a15",
   "metadata": {
    "papermill": {
     "duration": 0.022256,
     "end_time": "2021-11-29T08:09:56.121888",
     "exception": false,
     "start_time": "2021-11-29T08:09:56.099632",
     "status": "completed"
    },
    "tags": []
   },
   "source": [
    "# **Data research**"
   ]
  },
  {
   "cell_type": "code",
   "execution_count": 2,
   "id": "b08422a4",
   "metadata": {
    "execution": {
     "iopub.execute_input": "2021-11-29T08:09:56.166608Z",
     "iopub.status.busy": "2021-11-29T08:09:56.165883Z",
     "iopub.status.idle": "2021-11-29T08:10:24.286892Z",
     "shell.execute_reply": "2021-11-29T08:10:24.287500Z",
     "shell.execute_reply.started": "2021-11-29T07:59:29.983565Z"
    },
    "papermill": {
     "duration": 28.144958,
     "end_time": "2021-11-29T08:10:24.287691",
     "exception": false,
     "start_time": "2021-11-29T08:09:56.142733",
     "status": "completed"
    },
    "tags": []
   },
   "outputs": [
    {
     "data": {
      "text/html": [
       "<div>\n",
       "<style scoped>\n",
       "    .dataframe tbody tr th:only-of-type {\n",
       "        vertical-align: middle;\n",
       "    }\n",
       "\n",
       "    .dataframe tbody tr th {\n",
       "        vertical-align: top;\n",
       "    }\n",
       "\n",
       "    .dataframe thead th {\n",
       "        text-align: right;\n",
       "    }\n",
       "</style>\n",
       "<table border=\"1\" class=\"dataframe\">\n",
       "  <thead>\n",
       "    <tr style=\"text-align: right;\">\n",
       "      <th></th>\n",
       "      <th>id</th>\n",
       "      <th>f0</th>\n",
       "      <th>f1</th>\n",
       "      <th>f2</th>\n",
       "      <th>f3</th>\n",
       "      <th>f4</th>\n",
       "      <th>f5</th>\n",
       "      <th>f6</th>\n",
       "      <th>f7</th>\n",
       "      <th>f8</th>\n",
       "      <th>...</th>\n",
       "      <th>f91</th>\n",
       "      <th>f92</th>\n",
       "      <th>f93</th>\n",
       "      <th>f94</th>\n",
       "      <th>f95</th>\n",
       "      <th>f96</th>\n",
       "      <th>f97</th>\n",
       "      <th>f98</th>\n",
       "      <th>f99</th>\n",
       "      <th>target</th>\n",
       "    </tr>\n",
       "  </thead>\n",
       "  <tbody>\n",
       "    <tr>\n",
       "      <th>0</th>\n",
       "      <td>0</td>\n",
       "      <td>0.106643</td>\n",
       "      <td>3.59437</td>\n",
       "      <td>132.8040</td>\n",
       "      <td>3.18428</td>\n",
       "      <td>0.081971</td>\n",
       "      <td>1.18859</td>\n",
       "      <td>3.73238</td>\n",
       "      <td>2.266270</td>\n",
       "      <td>2.09959</td>\n",
       "      <td>...</td>\n",
       "      <td>1.09862</td>\n",
       "      <td>0.013331</td>\n",
       "      <td>-0.011715</td>\n",
       "      <td>0.052759</td>\n",
       "      <td>0.065400</td>\n",
       "      <td>4.211250</td>\n",
       "      <td>1.97877</td>\n",
       "      <td>0.085974</td>\n",
       "      <td>0.240496</td>\n",
       "      <td>0</td>\n",
       "    </tr>\n",
       "    <tr>\n",
       "      <th>1</th>\n",
       "      <td>1</td>\n",
       "      <td>0.125021</td>\n",
       "      <td>1.67336</td>\n",
       "      <td>76.5336</td>\n",
       "      <td>3.37825</td>\n",
       "      <td>0.099400</td>\n",
       "      <td>5.09366</td>\n",
       "      <td>1.27562</td>\n",
       "      <td>-0.471318</td>\n",
       "      <td>4.54594</td>\n",
       "      <td>...</td>\n",
       "      <td>3.46017</td>\n",
       "      <td>0.017054</td>\n",
       "      <td>0.124863</td>\n",
       "      <td>0.154064</td>\n",
       "      <td>0.606848</td>\n",
       "      <td>-0.267928</td>\n",
       "      <td>2.57786</td>\n",
       "      <td>-0.020877</td>\n",
       "      <td>0.024719</td>\n",
       "      <td>0</td>\n",
       "    </tr>\n",
       "    <tr>\n",
       "      <th>2</th>\n",
       "      <td>2</td>\n",
       "      <td>0.036330</td>\n",
       "      <td>1.49747</td>\n",
       "      <td>233.5460</td>\n",
       "      <td>2.19435</td>\n",
       "      <td>0.026914</td>\n",
       "      <td>3.12694</td>\n",
       "      <td>5.05687</td>\n",
       "      <td>3.849460</td>\n",
       "      <td>1.80187</td>\n",
       "      <td>...</td>\n",
       "      <td>4.88300</td>\n",
       "      <td>0.085222</td>\n",
       "      <td>0.032396</td>\n",
       "      <td>0.116092</td>\n",
       "      <td>-0.001688</td>\n",
       "      <td>-0.520069</td>\n",
       "      <td>2.14112</td>\n",
       "      <td>0.124464</td>\n",
       "      <td>0.148209</td>\n",
       "      <td>0</td>\n",
       "    </tr>\n",
       "    <tr>\n",
       "      <th>3</th>\n",
       "      <td>3</td>\n",
       "      <td>-0.014077</td>\n",
       "      <td>0.24600</td>\n",
       "      <td>779.9670</td>\n",
       "      <td>1.89064</td>\n",
       "      <td>0.006948</td>\n",
       "      <td>1.53112</td>\n",
       "      <td>2.69800</td>\n",
       "      <td>4.517330</td>\n",
       "      <td>4.50332</td>\n",
       "      <td>...</td>\n",
       "      <td>3.47439</td>\n",
       "      <td>-0.017103</td>\n",
       "      <td>-0.008100</td>\n",
       "      <td>0.062013</td>\n",
       "      <td>0.041193</td>\n",
       "      <td>0.511657</td>\n",
       "      <td>1.96860</td>\n",
       "      <td>0.040017</td>\n",
       "      <td>0.044873</td>\n",
       "      <td>0</td>\n",
       "    </tr>\n",
       "    <tr>\n",
       "      <th>4</th>\n",
       "      <td>4</td>\n",
       "      <td>-0.003259</td>\n",
       "      <td>3.71542</td>\n",
       "      <td>156.1280</td>\n",
       "      <td>2.14772</td>\n",
       "      <td>0.018284</td>\n",
       "      <td>2.09859</td>\n",
       "      <td>4.15492</td>\n",
       "      <td>-0.038236</td>\n",
       "      <td>3.37145</td>\n",
       "      <td>...</td>\n",
       "      <td>1.91059</td>\n",
       "      <td>-0.042943</td>\n",
       "      <td>0.105616</td>\n",
       "      <td>0.125072</td>\n",
       "      <td>0.037509</td>\n",
       "      <td>1.043790</td>\n",
       "      <td>1.07481</td>\n",
       "      <td>-0.012819</td>\n",
       "      <td>0.072798</td>\n",
       "      <td>1</td>\n",
       "    </tr>\n",
       "  </tbody>\n",
       "</table>\n",
       "<p>5 rows × 102 columns</p>\n",
       "</div>"
      ],
      "text/plain": [
       "   id        f0       f1        f2       f3        f4       f5       f6  \\\n",
       "0   0  0.106643  3.59437  132.8040  3.18428  0.081971  1.18859  3.73238   \n",
       "1   1  0.125021  1.67336   76.5336  3.37825  0.099400  5.09366  1.27562   \n",
       "2   2  0.036330  1.49747  233.5460  2.19435  0.026914  3.12694  5.05687   \n",
       "3   3 -0.014077  0.24600  779.9670  1.89064  0.006948  1.53112  2.69800   \n",
       "4   4 -0.003259  3.71542  156.1280  2.14772  0.018284  2.09859  4.15492   \n",
       "\n",
       "         f7       f8  ...      f91       f92       f93       f94       f95  \\\n",
       "0  2.266270  2.09959  ...  1.09862  0.013331 -0.011715  0.052759  0.065400   \n",
       "1 -0.471318  4.54594  ...  3.46017  0.017054  0.124863  0.154064  0.606848   \n",
       "2  3.849460  1.80187  ...  4.88300  0.085222  0.032396  0.116092 -0.001688   \n",
       "3  4.517330  4.50332  ...  3.47439 -0.017103 -0.008100  0.062013  0.041193   \n",
       "4 -0.038236  3.37145  ...  1.91059 -0.042943  0.105616  0.125072  0.037509   \n",
       "\n",
       "        f96      f97       f98       f99  target  \n",
       "0  4.211250  1.97877  0.085974  0.240496       0  \n",
       "1 -0.267928  2.57786 -0.020877  0.024719       0  \n",
       "2 -0.520069  2.14112  0.124464  0.148209       0  \n",
       "3  0.511657  1.96860  0.040017  0.044873       0  \n",
       "4  1.043790  1.07481 -0.012819  0.072798       1  \n",
       "\n",
       "[5 rows x 102 columns]"
      ]
     },
     "execution_count": 2,
     "metadata": {},
     "output_type": "execute_result"
    }
   ],
   "source": [
    "train = pd.read_csv(\"/kaggle/input/tabular-playground-series-nov-2021/train.csv\")\n",
    "test = pd.read_csv(\"/kaggle/input/tabular-playground-series-nov-2021/test.csv\")\n",
    "train.head()"
   ]
  },
  {
   "cell_type": "code",
   "execution_count": 3,
   "id": "1baed169",
   "metadata": {
    "execution": {
     "iopub.execute_input": "2021-11-29T08:10:24.336563Z",
     "iopub.status.busy": "2021-11-29T08:10:24.335785Z",
     "iopub.status.idle": "2021-11-29T08:10:24.339456Z",
     "shell.execute_reply": "2021-11-29T08:10:24.340126Z",
     "shell.execute_reply.started": "2021-11-29T07:59:59.247495Z"
    },
    "papermill": {
     "duration": 0.031414,
     "end_time": "2021-11-29T08:10:24.340342",
     "exception": false,
     "start_time": "2021-11-29T08:10:24.308928",
     "status": "completed"
    },
    "tags": []
   },
   "outputs": [
    {
     "data": {
      "text/plain": [
       "(600000, 102)"
      ]
     },
     "execution_count": 3,
     "metadata": {},
     "output_type": "execute_result"
    }
   ],
   "source": [
    "train.shape # data dimension"
   ]
  },
  {
   "cell_type": "code",
   "execution_count": 4,
   "id": "3ce692df",
   "metadata": {
    "execution": {
     "iopub.execute_input": "2021-11-29T08:10:24.387196Z",
     "iopub.status.busy": "2021-11-29T08:10:24.386460Z",
     "iopub.status.idle": "2021-11-29T08:10:24.401231Z",
     "shell.execute_reply": "2021-11-29T08:10:24.401773Z",
     "shell.execute_reply.started": "2021-11-29T07:59:59.254717Z"
    },
    "papermill": {
     "duration": 0.040175,
     "end_time": "2021-11-29T08:10:24.401953",
     "exception": false,
     "start_time": "2021-11-29T08:10:24.361778",
     "status": "completed"
    },
    "tags": []
   },
   "outputs": [
    {
     "data": {
      "text/plain": [
       "1    303606\n",
       "0    296394\n",
       "Name: target, dtype: int64"
      ]
     },
     "execution_count": 4,
     "metadata": {},
     "output_type": "execute_result"
    }
   ],
   "source": [
    "train['target'].value_counts() #target variable"
   ]
  },
  {
   "cell_type": "code",
   "execution_count": 5,
   "id": "68d1db4b",
   "metadata": {
    "execution": {
     "iopub.execute_input": "2021-11-29T08:10:24.449153Z",
     "iopub.status.busy": "2021-11-29T08:10:24.448477Z",
     "iopub.status.idle": "2021-11-29T08:10:24.598125Z",
     "shell.execute_reply": "2021-11-29T08:10:24.597524Z",
     "shell.execute_reply.started": "2021-11-29T07:59:59.276169Z"
    },
    "papermill": {
     "duration": 0.174737,
     "end_time": "2021-11-29T08:10:24.598286",
     "exception": false,
     "start_time": "2021-11-29T08:10:24.423549",
     "status": "completed"
    },
    "tags": []
   },
   "outputs": [
    {
     "data": {
      "text/plain": [
       "id        0\n",
       "f0        0\n",
       "f1        0\n",
       "f2        0\n",
       "f3        0\n",
       "         ..\n",
       "f96       0\n",
       "f97       0\n",
       "f98       0\n",
       "f99       0\n",
       "target    0\n",
       "Length: 102, dtype: int64"
      ]
     },
     "execution_count": 5,
     "metadata": {},
     "output_type": "execute_result"
    }
   ],
   "source": [
    "train.isna().sum()# check if there are gaps in the data"
   ]
  },
  {
   "cell_type": "code",
   "execution_count": 6,
   "id": "21b3c694",
   "metadata": {
    "execution": {
     "iopub.execute_input": "2021-11-29T08:10:24.650663Z",
     "iopub.status.busy": "2021-11-29T08:10:24.649794Z",
     "iopub.status.idle": "2021-11-29T08:10:24.653250Z",
     "shell.execute_reply": "2021-11-29T08:10:24.653799Z",
     "shell.execute_reply.started": "2021-11-29T07:59:59.402927Z"
    },
    "papermill": {
     "duration": 0.033587,
     "end_time": "2021-11-29T08:10:24.653985",
     "exception": false,
     "start_time": "2021-11-29T08:10:24.620398",
     "status": "completed"
    },
    "tags": []
   },
   "outputs": [
    {
     "data": {
      "text/plain": [
       "id          int64\n",
       "f0        float64\n",
       "f1        float64\n",
       "f2        float64\n",
       "f3        float64\n",
       "           ...   \n",
       "f96       float64\n",
       "f97       float64\n",
       "f98       float64\n",
       "f99       float64\n",
       "target      int64\n",
       "Length: 102, dtype: object"
      ]
     },
     "execution_count": 6,
     "metadata": {},
     "output_type": "execute_result"
    }
   ],
   "source": [
    "train.dtypes"
   ]
  },
  {
   "cell_type": "markdown",
   "id": "863b4bef",
   "metadata": {
    "papermill": {
     "duration": 0.022389,
     "end_time": "2021-11-29T08:10:24.699188",
     "exception": false,
     "start_time": "2021-11-29T08:10:24.676799",
     "status": "completed"
    },
    "tags": []
   },
   "source": [
    "# **Data preparation**"
   ]
  },
  {
   "cell_type": "code",
   "execution_count": 7,
   "id": "f7d83468",
   "metadata": {
    "execution": {
     "iopub.execute_input": "2021-11-29T08:10:24.748111Z",
     "iopub.status.busy": "2021-11-29T08:10:24.747416Z",
     "iopub.status.idle": "2021-11-29T08:10:25.499725Z",
     "shell.execute_reply": "2021-11-29T08:10:25.499129Z",
     "shell.execute_reply.started": "2021-11-29T07:59:59.411183Z"
    },
    "papermill": {
     "duration": 0.777749,
     "end_time": "2021-11-29T08:10:25.499884",
     "exception": false,
     "start_time": "2021-11-29T08:10:24.722135",
     "status": "completed"
    },
    "tags": []
   },
   "outputs": [],
   "source": [
    "# Get train data without the target and ids\n",
    "X = train.iloc[:, 1:-1].copy()\n",
    "# Get the target\n",
    "y = train.target.copy()\n",
    "\n",
    "# Create test X, drop ids.\n",
    "test_X = test.iloc[:, 1:].copy()"
   ]
  },
  {
   "cell_type": "code",
   "execution_count": 8,
   "id": "488701f4",
   "metadata": {
    "execution": {
     "iopub.execute_input": "2021-11-29T08:10:25.548887Z",
     "iopub.status.busy": "2021-11-29T08:10:25.547851Z",
     "iopub.status.idle": "2021-11-29T08:10:27.654755Z",
     "shell.execute_reply": "2021-11-29T08:10:27.654126Z",
     "shell.execute_reply.started": "2021-11-29T08:00:00.142496Z"
    },
    "papermill": {
     "duration": 2.132464,
     "end_time": "2021-11-29T08:10:27.654920",
     "exception": false,
     "start_time": "2021-11-29T08:10:25.522456",
     "status": "completed"
    },
    "tags": []
   },
   "outputs": [
    {
     "data": {
      "text/html": [
       "<style type='text/css'>\n",
       ".datatable table.frame { margin-bottom: 0; }\n",
       ".datatable table.frame thead { border-bottom: none; }\n",
       ".datatable table.frame tr.coltypes td {  color: #FFFFFF;  line-height: 6px;  padding: 0 0.5em;}\n",
       ".datatable .bool    { background: #DDDD99; }\n",
       ".datatable .object  { background: #565656; }\n",
       ".datatable .int     { background: #5D9E5D; }\n",
       ".datatable .float   { background: #4040CC; }\n",
       ".datatable .str     { background: #CC4040; }\n",
       ".datatable .time    { background: #40CC40; }\n",
       ".datatable .row_index {  background: var(--jp-border-color3);  border-right: 1px solid var(--jp-border-color0);  color: var(--jp-ui-font-color3);  font-size: 9px;}\n",
       ".datatable .frame tbody td { text-align: left; }\n",
       ".datatable .frame tr.coltypes .row_index {  background: var(--jp-border-color0);}\n",
       ".datatable th:nth-child(2) { padding-left: 12px; }\n",
       ".datatable .hellipsis {  color: var(--jp-cell-editor-border-color);}\n",
       ".datatable .vellipsis {  background: var(--jp-layout-color0);  color: var(--jp-cell-editor-border-color);}\n",
       ".datatable .na {  color: var(--jp-cell-editor-border-color);  font-size: 80%;}\n",
       ".datatable .sp {  opacity: 0.25;}\n",
       ".datatable .footer { font-size: 9px; }\n",
       ".datatable .frame_dimensions {  background: var(--jp-border-color3);  border-top: 1px solid var(--jp-border-color0);  color: var(--jp-ui-font-color3);  display: inline-block;  opacity: 0.6;  padding: 1px 10px 1px 5px;}\n",
       "</style>\n"
      ],
      "text/plain": [
       "<IPython.core.display.HTML object>"
      ]
     },
     "metadata": {},
     "output_type": "display_data"
    }
   ],
   "source": [
    "import gc \n",
    "import matplotlib.image as img\n",
    "import seaborn as sns\n",
    "%matplotlib inline\n",
    "from sklearn.model_selection import train_test_split\n",
    "from sklearn.metrics import mean_squared_error as mse, r2_score as r2\n",
    "from lightgbm import LGBMRegressor"
   ]
  },
  {
   "cell_type": "code",
   "execution_count": 9,
   "id": "0693ba1f",
   "metadata": {
    "execution": {
     "iopub.execute_input": "2021-11-29T08:10:27.705627Z",
     "iopub.status.busy": "2021-11-29T08:10:27.704930Z",
     "iopub.status.idle": "2021-11-29T08:10:27.708653Z",
     "shell.execute_reply": "2021-11-29T08:10:27.709314Z",
     "shell.execute_reply.started": "2021-11-29T08:00:01.968691Z"
    },
    "papermill": {
     "duration": 0.031068,
     "end_time": "2021-11-29T08:10:27.709501",
     "exception": false,
     "start_time": "2021-11-29T08:10:27.678433",
     "status": "completed"
    },
    "tags": []
   },
   "outputs": [],
   "source": [
    "# Plot\n",
    "import seaborn as sns\n",
    "import matplotlib.pyplot as plt\n",
    "\n",
    "# Scaler\n",
    "from sklearn.preprocessing import StandardScaler, MinMaxScaler\n",
    "\n",
    "# Cross-Validation\n",
    "from sklearn.model_selection import StratifiedKFold"
   ]
  },
  {
   "cell_type": "code",
   "execution_count": 10,
   "id": "f52919ac",
   "metadata": {
    "execution": {
     "iopub.execute_input": "2021-11-29T08:10:27.759136Z",
     "iopub.status.busy": "2021-11-29T08:10:27.758460Z",
     "iopub.status.idle": "2021-11-29T08:10:28.669732Z",
     "shell.execute_reply": "2021-11-29T08:10:28.669055Z",
     "shell.execute_reply.started": "2021-11-29T08:00:01.976281Z"
    },
    "papermill": {
     "duration": 0.937016,
     "end_time": "2021-11-29T08:10:28.669892",
     "exception": false,
     "start_time": "2021-11-29T08:10:27.732876",
     "status": "completed"
    },
    "tags": []
   },
   "outputs": [],
   "source": [
    "# Apply a scaler\n",
    "scaler = MinMaxScaler()\n",
    "X = scaler.fit_transform(X)\n",
    "test_X = scaler.transform(test_X)"
   ]
  },
  {
   "cell_type": "markdown",
   "id": "f373d241",
   "metadata": {
    "papermill": {
     "duration": 0.023109,
     "end_time": "2021-11-29T08:10:28.716705",
     "exception": false,
     "start_time": "2021-11-29T08:10:28.693596",
     "status": "completed"
    },
    "tags": []
   },
   "source": [
    "# **Building a model**"
   ]
  },
  {
   "cell_type": "code",
   "execution_count": 11,
   "id": "0c306462",
   "metadata": {
    "execution": {
     "iopub.execute_input": "2021-11-29T08:10:28.771193Z",
     "iopub.status.busy": "2021-11-29T08:10:28.770461Z",
     "iopub.status.idle": "2021-11-29T08:10:29.736091Z",
     "shell.execute_reply": "2021-11-29T08:10:29.735285Z",
     "shell.execute_reply.started": "2021-11-29T08:00:02.814900Z"
    },
    "papermill": {
     "duration": 0.996009,
     "end_time": "2021-11-29T08:10:29.736422",
     "exception": false,
     "start_time": "2021-11-29T08:10:28.740413",
     "status": "completed"
    },
    "tags": []
   },
   "outputs": [],
   "source": [
    "from sklearn.svm import SVC\n",
    "from sklearn.metrics import confusion_matrix, accuracy_score\n",
    "from sklearn.model_selection import train_test_split\n",
    "from sklearn.model_selection import KFold, cross_val_score\n",
    "\n",
    "X_train, X_test, y_train, y_test = train_test_split(X, y, test_size=0.3, random_state=1)"
   ]
  },
  {
   "cell_type": "code",
   "execution_count": 12,
   "id": "792ab643",
   "metadata": {
    "execution": {
     "iopub.execute_input": "2021-11-29T08:10:29.789316Z",
     "iopub.status.busy": "2021-11-29T08:10:29.788575Z",
     "iopub.status.idle": "2021-11-29T08:10:35.264834Z",
     "shell.execute_reply": "2021-11-29T08:10:35.265381Z",
     "shell.execute_reply.started": "2021-11-29T08:00:03.640139Z"
    },
    "papermill": {
     "duration": 5.505192,
     "end_time": "2021-11-29T08:10:35.265576",
     "exception": false,
     "start_time": "2021-11-29T08:10:29.760384",
     "status": "completed"
    },
    "tags": []
   },
   "outputs": [],
   "source": [
    "from keras import models\n",
    "from keras import layers\n",
    "from keras.wrappers.scikit_learn import KerasClassifier\n",
    "from sklearn.model_selection import GridSearchCV"
   ]
  },
  {
   "cell_type": "code",
   "execution_count": 13,
   "id": "1c7852c7",
   "metadata": {
    "execution": {
     "iopub.execute_input": "2021-11-29T08:10:35.316618Z",
     "iopub.status.busy": "2021-11-29T08:10:35.315912Z",
     "iopub.status.idle": "2021-11-29T08:10:35.437820Z",
     "shell.execute_reply": "2021-11-29T08:10:35.438357Z",
     "shell.execute_reply.started": "2021-11-29T08:00:08.804294Z"
    },
    "papermill": {
     "duration": 0.149651,
     "end_time": "2021-11-29T08:10:35.438550",
     "exception": false,
     "start_time": "2021-11-29T08:10:35.288899",
     "status": "completed"
    },
    "tags": []
   },
   "outputs": [
    {
     "name": "stderr",
     "output_type": "stream",
     "text": [
      "\n",
      "User settings:\n",
      "\n",
      "   KMP_AFFINITY=granularity=fine,verbose,compact,1,0\n",
      "   KMP_BLOCKTIME=0\n",
      "   KMP_DUPLICATE_LIB_OK=True\n",
      "   KMP_INIT_AT_FORK=FALSE\n",
      "   KMP_SETTINGS=1\n",
      "   KMP_WARNINGS=0\n",
      "\n",
      "Effective settings:\n",
      "\n",
      "   KMP_ABORT_DELAY=0\n",
      "   KMP_ADAPTIVE_LOCK_PROPS='1,1024'\n",
      "   KMP_ALIGN_ALLOC=64\n",
      "   KMP_ALL_THREADPRIVATE=128\n",
      "   KMP_ATOMIC_MODE=2\n",
      "   KMP_BLOCKTIME=0\n",
      "   KMP_CPUINFO_FILE: value is not defined\n",
      "   KMP_DETERMINISTIC_REDUCTION=false\n",
      "   KMP_DEVICE_THREAD_LIMIT=2147483647\n",
      "   KMP_DISP_NUM_BUFFERS=7\n",
      "   KMP_DUPLICATE_LIB_OK=true\n",
      "   KMP_ENABLE_TASK_THROTTLING=true\n",
      "   KMP_FORCE_REDUCTION: value is not defined\n",
      "   KMP_FOREIGN_THREADS_THREADPRIVATE=true\n",
      "   KMP_FORKJOIN_BARRIER='2,2'\n",
      "   KMP_FORKJOIN_BARRIER_PATTERN='hyper,hyper'\n",
      "   KMP_GTID_MODE=3\n",
      "   KMP_HANDLE_SIGNALS=false\n",
      "   KMP_HOT_TEAMS_MAX_LEVEL=1\n",
      "   KMP_HOT_TEAMS_MODE=0\n",
      "   KMP_INIT_AT_FORK=true\n",
      "   KMP_LIBRARY=throughput\n",
      "   KMP_LOCK_KIND=queuing\n",
      "   KMP_MALLOC_POOL_INCR=1M\n",
      "   KMP_NUM_LOCKS_IN_BLOCK=1\n",
      "   KMP_PLAIN_BARRIER='2,2'\n",
      "   KMP_PLAIN_BARRIER_PATTERN='hyper,hyper'\n",
      "   KMP_REDUCTION_BARRIER='1,1'\n",
      "   KMP_REDUCTION_BARRIER_PATTERN='hyper,hyper'\n",
      "   KMP_SCHEDULE='static,balanced;guided,iterative'\n",
      "   KMP_SETTINGS=true\n",
      "   KMP_SPIN_BACKOFF_PARAMS='4096,100'\n",
      "   KMP_STACKOFFSET=64\n",
      "   KMP_STACKPAD=0\n",
      "   KMP_STACKSIZE=8M\n",
      "   KMP_STORAGE_MAP=false\n",
      "   KMP_TASKING=2\n",
      "   KMP_TASKLOOP_MIN_TASKS=0\n",
      "   KMP_TASK_STEALING_CONSTRAINT=1\n",
      "   KMP_TEAMS_THREAD_LIMIT=4\n",
      "   KMP_TOPOLOGY_METHOD=all\n",
      "   KMP_USE_YIELD=1\n",
      "   KMP_VERSION=false\n",
      "   KMP_WARNINGS=false\n",
      "   OMP_AFFINITY_FORMAT='OMP: pid %P tid %i thread %n bound to OS proc set {%A}'\n",
      "   OMP_ALLOCATOR=omp_default_mem_alloc\n",
      "   OMP_CANCELLATION=false\n",
      "   OMP_DEFAULT_DEVICE=0\n",
      "   OMP_DISPLAY_AFFINITY=false\n",
      "   OMP_DISPLAY_ENV=false\n",
      "   OMP_DYNAMIC=false\n",
      "   OMP_MAX_ACTIVE_LEVELS=1\n",
      "   OMP_MAX_TASK_PRIORITY=0\n",
      "   OMP_NESTED: deprecated; max-active-levels-var=1\n",
      "   OMP_NUM_THREADS: value is not defined\n",
      "   OMP_PLACES: value is not defined\n",
      "   OMP_PROC_BIND='intel'\n",
      "   OMP_SCHEDULE='static'\n",
      "   OMP_STACKSIZE=8M\n",
      "   OMP_TARGET_OFFLOAD=DEFAULT\n",
      "   OMP_THREAD_LIMIT=2147483647\n",
      "   OMP_WAIT_POLICY=PASSIVE\n",
      "   KMP_AFFINITY='verbose,warnings,respect,granularity=fine,compact,1,0'\n",
      "\n",
      "2021-11-29 08:10:35.349533: I tensorflow/core/common_runtime/process_util.cc:146] Creating new thread pool with default inter op setting: 2. Tune using inter_op_parallelism_threads for best performance.\n"
     ]
    }
   ],
   "source": [
    "network = models.Sequential()\n",
    "network.add(layers.Dense(units=16, activation=\"relu\", input_shape=(100,)))\n",
    "network.add(layers.Dense(units=16, activation=\"relu\"))\n",
    "network.add(layers.Dense(units=1, activation=\"sigmoid\"))"
   ]
  },
  {
   "cell_type": "code",
   "execution_count": 14,
   "id": "191f1405",
   "metadata": {
    "execution": {
     "iopub.execute_input": "2021-11-29T08:10:35.489369Z",
     "iopub.status.busy": "2021-11-29T08:10:35.488659Z",
     "iopub.status.idle": "2021-11-29T08:10:35.501611Z",
     "shell.execute_reply": "2021-11-29T08:10:35.502248Z",
     "shell.execute_reply.started": "2021-11-29T08:00:08.923030Z"
    },
    "papermill": {
     "duration": 0.040515,
     "end_time": "2021-11-29T08:10:35.502436",
     "exception": false,
     "start_time": "2021-11-29T08:10:35.461921",
     "status": "completed"
    },
    "tags": []
   },
   "outputs": [],
   "source": [
    "network.compile(\n",
    "    loss=\"binary_crossentropy\",\n",
    "    optimizer=\"rmsprop\",\n",
    "    metrics=[\"accuracy\"]\n",
    ")"
   ]
  },
  {
   "cell_type": "code",
   "execution_count": 15,
   "id": "efaaa3a0",
   "metadata": {
    "execution": {
     "iopub.execute_input": "2021-11-29T08:10:35.555039Z",
     "iopub.status.busy": "2021-11-29T08:10:35.554383Z",
     "iopub.status.idle": "2021-11-29T08:12:58.562087Z",
     "shell.execute_reply": "2021-11-29T08:12:58.562660Z",
     "shell.execute_reply.started": "2021-11-29T08:00:20.010318Z"
    },
    "papermill": {
     "duration": 143.036878,
     "end_time": "2021-11-29T08:12:58.562867",
     "exception": false,
     "start_time": "2021-11-29T08:10:35.525989",
     "status": "completed"
    },
    "tags": []
   },
   "outputs": [
    {
     "name": "stderr",
     "output_type": "stream",
     "text": [
      "2021-11-29 08:10:35.867918: I tensorflow/compiler/mlir/mlir_graph_optimization_pass.cc:185] None of the MLIR Optimization Passes are enabled (registered 2)\n"
     ]
    },
    {
     "name": "stdout",
     "output_type": "stream",
     "text": [
      "Epoch 1/11\n",
      "4200/4200 [==============================] - 12s 3ms/step - loss: 0.6200 - accuracy: 0.6792 - val_loss: 0.6174 - val_accuracy: 0.6766\n",
      "Epoch 2/11\n",
      "4200/4200 [==============================] - 10s 2ms/step - loss: 0.6054 - accuracy: 0.6989 - val_loss: 0.6007 - val_accuracy: 0.7051\n",
      "Epoch 3/11\n",
      "4200/4200 [==============================] - 10s 2ms/step - loss: 0.5988 - accuracy: 0.7052 - val_loss: 0.5936 - val_accuracy: 0.7119\n",
      "Epoch 4/11\n",
      "4200/4200 [==============================] - 10s 2ms/step - loss: 0.5943 - accuracy: 0.7097 - val_loss: 0.5938 - val_accuracy: 0.7100\n",
      "Epoch 5/11\n",
      "4200/4200 [==============================] - 10s 2ms/step - loss: 0.5914 - accuracy: 0.7124 - val_loss: 0.5867 - val_accuracy: 0.7187\n",
      "Epoch 6/11\n",
      "4200/4200 [==============================] - 10s 2ms/step - loss: 0.5895 - accuracy: 0.7149 - val_loss: 0.5853 - val_accuracy: 0.7205\n",
      "Epoch 7/11\n",
      "4200/4200 [==============================] - 10s 2ms/step - loss: 0.5880 - accuracy: 0.7170 - val_loss: 0.5846 - val_accuracy: 0.7213\n",
      "Epoch 8/11\n",
      "4200/4200 [==============================] - 10s 2ms/step - loss: 0.5867 - accuracy: 0.7191 - val_loss: 0.5825 - val_accuracy: 0.7265\n",
      "Epoch 9/11\n",
      "4200/4200 [==============================] - 11s 3ms/step - loss: 0.5854 - accuracy: 0.7202 - val_loss: 0.5833 - val_accuracy: 0.7225\n",
      "Epoch 10/11\n",
      "4200/4200 [==============================] - 10s 2ms/step - loss: 0.5844 - accuracy: 0.7215 - val_loss: 0.5796 - val_accuracy: 0.7298\n",
      "Epoch 11/11\n",
      "4200/4200 [==============================] - 10s 2ms/step - loss: 0.5836 - accuracy: 0.7224 - val_loss: 0.5796 - val_accuracy: 0.7291\n"
     ]
    }
   ],
   "source": [
    "history = network.fit(\n",
    "    X_train,\n",
    "    y_train,\n",
    "    epochs=11,\n",
    "    verbose=1,\n",
    "    batch_size=100,\n",
    "    validation_data=(X_test, y_test))"
   ]
  },
  {
   "cell_type": "code",
   "execution_count": 16,
   "id": "d654973b",
   "metadata": {
    "execution": {
     "iopub.execute_input": "2021-11-29T08:12:59.812088Z",
     "iopub.status.busy": "2021-11-29T08:12:59.811401Z",
     "iopub.status.idle": "2021-11-29T08:15:11.553610Z",
     "shell.execute_reply": "2021-11-29T08:15:11.552955Z",
     "shell.execute_reply.started": "2021-11-29T08:02:42.219635Z"
    },
    "papermill": {
     "duration": 132.371691,
     "end_time": "2021-11-29T08:15:11.553782",
     "exception": false,
     "start_time": "2021-11-29T08:12:59.182091",
     "status": "completed"
    },
    "tags": []
   },
   "outputs": [
    {
     "name": "stdout",
     "output_type": "stream",
     "text": [
      "Epoch 1/11\n",
      "6000/6000 [==============================] - 12s 2ms/step - loss: 0.5831 - accuracy: 0.7232\n",
      "Epoch 2/11\n",
      "6000/6000 [==============================] - 12s 2ms/step - loss: 0.5826 - accuracy: 0.7239\n",
      "Epoch 3/11\n",
      "6000/6000 [==============================] - 12s 2ms/step - loss: 0.5816 - accuracy: 0.7250\n",
      "Epoch 4/11\n",
      "6000/6000 [==============================] - 12s 2ms/step - loss: 0.5809 - accuracy: 0.7262\n",
      "Epoch 5/11\n",
      "6000/6000 [==============================] - 12s 2ms/step - loss: 0.5805 - accuracy: 0.7265\n",
      "Epoch 6/11\n",
      "6000/6000 [==============================] - 12s 2ms/step - loss: 0.5800 - accuracy: 0.7274\n",
      "Epoch 7/11\n",
      "6000/6000 [==============================] - 12s 2ms/step - loss: 0.5798 - accuracy: 0.7274\n",
      "Epoch 8/11\n",
      "6000/6000 [==============================] - 12s 2ms/step - loss: 0.5794 - accuracy: 0.7280\n",
      "Epoch 9/11\n",
      "6000/6000 [==============================] - 12s 2ms/step - loss: 0.5791 - accuracy: 0.7285\n",
      "Epoch 10/11\n",
      "6000/6000 [==============================] - 12s 2ms/step - loss: 0.5789 - accuracy: 0.7289\n",
      "Epoch 11/11\n",
      "6000/6000 [==============================] - 12s 2ms/step - loss: 0.5789 - accuracy: 0.7287\n"
     ]
    }
   ],
   "source": [
    "history = network.fit(\n",
    "    X,\n",
    "    y,\n",
    "    epochs=11,\n",
    "    verbose=1,\n",
    "    batch_size=100,)"
   ]
  },
  {
   "cell_type": "code",
   "execution_count": 17,
   "id": "eb0b0207",
   "metadata": {
    "execution": {
     "iopub.execute_input": "2021-11-29T08:15:14.606217Z",
     "iopub.status.busy": "2021-11-29T08:15:14.605427Z",
     "iopub.status.idle": "2021-11-29T08:15:30.804817Z",
     "shell.execute_reply": "2021-11-29T08:15:30.804184Z",
     "shell.execute_reply.started": "2021-11-29T08:04:32.051116Z"
    },
    "papermill": {
     "duration": 17.698815,
     "end_time": "2021-11-29T08:15:30.804995",
     "exception": false,
     "start_time": "2021-11-29T08:15:13.106180",
     "status": "completed"
    },
    "tags": []
   },
   "outputs": [],
   "source": [
    "y_pred = network.predict(test_X)"
   ]
  },
  {
   "cell_type": "code",
   "execution_count": 18,
   "id": "950f0d3f",
   "metadata": {
    "execution": {
     "iopub.execute_input": "2021-11-29T08:15:33.791461Z",
     "iopub.status.busy": "2021-11-29T08:15:33.785968Z",
     "iopub.status.idle": "2021-11-29T08:15:33.945287Z",
     "shell.execute_reply": "2021-11-29T08:15:33.945857Z",
     "shell.execute_reply.started": "2021-11-29T08:04:44.644437Z"
    },
    "papermill": {
     "duration": 1.650577,
     "end_time": "2021-11-29T08:15:33.946052",
     "exception": false,
     "start_time": "2021-11-29T08:15:32.295475",
     "status": "completed"
    },
    "tags": []
   },
   "outputs": [
    {
     "data": {
      "text/html": [
       "<div>\n",
       "<style scoped>\n",
       "    .dataframe tbody tr th:only-of-type {\n",
       "        vertical-align: middle;\n",
       "    }\n",
       "\n",
       "    .dataframe tbody tr th {\n",
       "        vertical-align: top;\n",
       "    }\n",
       "\n",
       "    .dataframe thead th {\n",
       "        text-align: right;\n",
       "    }\n",
       "</style>\n",
       "<table border=\"1\" class=\"dataframe\">\n",
       "  <thead>\n",
       "    <tr style=\"text-align: right;\">\n",
       "      <th></th>\n",
       "      <th>id</th>\n",
       "      <th>target</th>\n",
       "    </tr>\n",
       "  </thead>\n",
       "  <tbody>\n",
       "    <tr>\n",
       "      <th>0</th>\n",
       "      <td>600000</td>\n",
       "      <td>0.750988</td>\n",
       "    </tr>\n",
       "    <tr>\n",
       "      <th>1</th>\n",
       "      <td>600001</td>\n",
       "      <td>0.763004</td>\n",
       "    </tr>\n",
       "    <tr>\n",
       "      <th>2</th>\n",
       "      <td>600002</td>\n",
       "      <td>0.761015</td>\n",
       "    </tr>\n",
       "    <tr>\n",
       "      <th>3</th>\n",
       "      <td>600003</td>\n",
       "      <td>0.615668</td>\n",
       "    </tr>\n",
       "    <tr>\n",
       "      <th>4</th>\n",
       "      <td>600004</td>\n",
       "      <td>0.732286</td>\n",
       "    </tr>\n",
       "    <tr>\n",
       "      <th>...</th>\n",
       "      <td>...</td>\n",
       "      <td>...</td>\n",
       "    </tr>\n",
       "    <tr>\n",
       "      <th>539995</th>\n",
       "      <td>1139995</td>\n",
       "      <td>0.774485</td>\n",
       "    </tr>\n",
       "    <tr>\n",
       "      <th>539996</th>\n",
       "      <td>1139996</td>\n",
       "      <td>0.758644</td>\n",
       "    </tr>\n",
       "    <tr>\n",
       "      <th>539997</th>\n",
       "      <td>1139997</td>\n",
       "      <td>0.702762</td>\n",
       "    </tr>\n",
       "    <tr>\n",
       "      <th>539998</th>\n",
       "      <td>1139998</td>\n",
       "      <td>0.748338</td>\n",
       "    </tr>\n",
       "    <tr>\n",
       "      <th>539999</th>\n",
       "      <td>1139999</td>\n",
       "      <td>0.773163</td>\n",
       "    </tr>\n",
       "  </tbody>\n",
       "</table>\n",
       "<p>540000 rows × 2 columns</p>\n",
       "</div>"
      ],
      "text/plain": [
       "             id    target\n",
       "0        600000  0.750988\n",
       "1        600001  0.763004\n",
       "2        600002  0.761015\n",
       "3        600003  0.615668\n",
       "4        600004  0.732286\n",
       "...         ...       ...\n",
       "539995  1139995  0.774485\n",
       "539996  1139996  0.758644\n",
       "539997  1139997  0.702762\n",
       "539998  1139998  0.748338\n",
       "539999  1139999  0.773163\n",
       "\n",
       "[540000 rows x 2 columns]"
      ]
     },
     "execution_count": 18,
     "metadata": {},
     "output_type": "execute_result"
    }
   ],
   "source": [
    "y_pred_df = pd.DataFrame(y_pred, columns=['target'])\n",
    "d = {0: '0.1', 1: '1'}\n",
    "y_pred_df['target'] = y_pred_df['target'].map(d).fillna(y_pred_df['target'])\n",
    "y_pred_df = pd.Series(y_pred_df['target'])\n",
    "y_pred_df = y_pred_df.reset_index()\n",
    "y_pred_df['index']=y_pred_df['index']+600000\n",
    "y_pred_df=y_pred_df.rename(columns={'index': 'id'})\n",
    "y_pred_df"
   ]
  },
  {
   "cell_type": "code",
   "execution_count": 19,
   "id": "b72b32b2",
   "metadata": {
    "execution": {
     "iopub.execute_input": "2021-11-29T08:15:37.189006Z",
     "iopub.status.busy": "2021-11-29T08:15:37.187895Z",
     "iopub.status.idle": "2021-11-29T08:15:39.126757Z",
     "shell.execute_reply": "2021-11-29T08:15:39.127392Z",
     "shell.execute_reply.started": "2021-11-29T08:04:44.838879Z"
    },
    "papermill": {
     "duration": 3.53571,
     "end_time": "2021-11-29T08:15:39.127592",
     "exception": false,
     "start_time": "2021-11-29T08:15:35.591882",
     "status": "completed"
    },
    "tags": []
   },
   "outputs": [],
   "source": [
    "y_pred_df.to_csv('submission.csv', index=False)"
   ]
  },
  {
   "cell_type": "code",
   "execution_count": null,
   "id": "7919eb8f",
   "metadata": {
    "papermill": {
     "duration": 1.477228,
     "end_time": "2021-11-29T08:15:42.138484",
     "exception": false,
     "start_time": "2021-11-29T08:15:40.661256",
     "status": "completed"
    },
    "tags": []
   },
   "outputs": [],
   "source": []
  }
 ],
 "metadata": {
  "kernelspec": {
   "display_name": "Python 3",
   "language": "python",
   "name": "python3"
  },
  "language_info": {
   "codemirror_mode": {
    "name": "ipython",
    "version": 3
   },
   "file_extension": ".py",
   "mimetype": "text/x-python",
   "name": "python",
   "nbconvert_exporter": "python",
   "pygments_lexer": "ipython3",
   "version": "3.7.10"
  },
  "papermill": {
   "default_parameters": {},
   "duration": 360.163587,
   "end_time": "2021-11-29T08:15:46.635187",
   "environment_variables": {},
   "exception": null,
   "input_path": "__notebook__.ipynb",
   "output_path": "__notebook__.ipynb",
   "parameters": {},
   "start_time": "2021-11-29T08:09:46.471600",
   "version": "2.3.3"
  }
 },
 "nbformat": 4,
 "nbformat_minor": 5
}
